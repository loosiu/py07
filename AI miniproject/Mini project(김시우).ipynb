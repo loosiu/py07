{
 "cells": [
  {
   "cell_type": "code",
   "execution_count": 126,
   "metadata": {},
   "outputs": [
    {
     "name": "stdout",
     "output_type": "stream",
     "text": [
      "   weight   age  height size\n",
      "0      62  28.0  172.72   XL\n",
      "1      59  36.0  167.64    L\n",
      "2      61  34.0  165.10    M\n",
      "3      65  27.0  175.26    L\n",
      "4      62  45.0  172.72    M\n",
      "5      50  27.0  160.02    S\n",
      "        weight   age  height size\n",
      "119728      56  36.0  167.64    M\n",
      "119729      63  42.0  175.26    M\n",
      "119730      45  29.0  154.94    S\n",
      "119731      61  31.0  172.72    M\n",
      "119732      74  31.0  167.64   XL\n",
      "119733      70  30.0  167.64   XL\n"
     ]
    }
   ],
   "source": [
    "import numpy as np\n",
    "import pandas as pd\n",
    "import matplotlib.pyplot as plt\n",
    "import seaborn as sns\n",
    "%matplotlib inline\n",
    "\n",
    "clothes_df = pd.read_csv('./clothes_size.csv')\n",
    "print(clothes_df.head(6))\n",
    "print(clothes_df.tail(6))"
   ]
  },
  {
   "cell_type": "code",
   "execution_count": 127,
   "metadata": {},
   "outputs": [
    {
     "name": "stdout",
     "output_type": "stream",
     "text": [
      "<class 'pandas.core.frame.DataFrame'>\n",
      "RangeIndex: 119734 entries, 0 to 119733\n",
      "Data columns (total 4 columns):\n",
      " #   Column  Non-Null Count   Dtype  \n",
      "---  ------  --------------   -----  \n",
      " 0   weight  119734 non-null  int64  \n",
      " 1   age     119477 non-null  float64\n",
      " 2   height  119404 non-null  float64\n",
      " 3   size    119734 non-null  object \n",
      "dtypes: float64(2), int64(1), object(1)\n",
      "memory usage: 3.7+ MB\n",
      "None\n"
     ]
    }
   ],
   "source": [
    "clothes_features = clothes_df[['weight','age','height']]\n",
    "clothes_label = clothes_df['size']\n",
    "print(clothes_df.info())"
   ]
  },
  {
   "cell_type": "code",
   "execution_count": 128,
   "metadata": {},
   "outputs": [
    {
     "name": "stdout",
     "output_type": "stream",
     "text": [
      "        weight   age  height\n",
      "0           62  28.0  172.72\n",
      "1           59  36.0  167.64\n",
      "2           61  34.0  165.10\n",
      "3           65  27.0  175.26\n",
      "4           62  45.0  172.72\n",
      "...        ...   ...     ...\n",
      "119729      63  42.0  175.26\n",
      "119730      45  29.0  154.94\n",
      "119731      61  31.0  172.72\n",
      "119732      74  31.0  167.64\n",
      "119733      70  30.0  167.64\n",
      "\n",
      "[119734 rows x 3 columns]\n"
     ]
    }
   ],
   "source": [
    "print(clothes_features)"
   ]
  },
  {
   "cell_type": "code",
   "execution_count": 129,
   "metadata": {},
   "outputs": [
    {
     "name": "stdout",
     "output_type": "stream",
     "text": [
      "0         XL\n",
      "1          L\n",
      "2          M\n",
      "3          L\n",
      "4          M\n",
      "          ..\n",
      "119729     M\n",
      "119730     S\n",
      "119731     M\n",
      "119732    XL\n",
      "119733    XL\n",
      "Name: size, Length: 119734, dtype: object\n"
     ]
    }
   ],
   "source": [
    "print(clothes_label)"
   ]
  },
  {
   "cell_type": "code",
   "execution_count": 133,
   "metadata": {},
   "outputs": [
    {
     "data": {
      "text/plain": [
       "weight      0\n",
       "age       257\n",
       "height    330\n",
       "dtype: int64"
      ]
     },
     "execution_count": 133,
     "metadata": {},
     "output_type": "execute_result"
    }
   ],
   "source": [
    "clothes_features.isna().sum()"
   ]
  },
  {
   "cell_type": "code",
   "execution_count": 134,
   "metadata": {},
   "outputs": [
    {
     "name": "stdout",
     "output_type": "stream",
     "text": [
      "weight    0\n",
      "age       0\n",
      "height    0\n",
      "dtype: int64\n"
     ]
    },
    {
     "name": "stderr",
     "output_type": "stream",
     "text": [
      "<ipython-input-134-3dcc64da27db>:1: SettingWithCopyWarning: \n",
      "A value is trying to be set on a copy of a slice from a DataFrame.\n",
      "Try using .loc[row_indexer,col_indexer] = value instead\n",
      "\n",
      "See the caveats in the documentation: https://pandas.pydata.org/pandas-docs/stable/user_guide/indexing.html#returning-a-view-versus-a-copy\n",
      "  clothes_features['age'] = clothes_features['age'].fillna(clothes_features['age'].mean())\n",
      "<ipython-input-134-3dcc64da27db>:2: SettingWithCopyWarning: \n",
      "A value is trying to be set on a copy of a slice from a DataFrame.\n",
      "Try using .loc[row_indexer,col_indexer] = value instead\n",
      "\n",
      "See the caveats in the documentation: https://pandas.pydata.org/pandas-docs/stable/user_guide/indexing.html#returning-a-view-versus-a-copy\n",
      "  clothes_features['height'] = clothes_features['height'].fillna(clothes_features['height'].mean())\n"
     ]
    }
   ],
   "source": [
    "clothes_features['age'] = clothes_features['age'].fillna(clothes_features['age'].mean())\n",
    "clothes_features['height'] = clothes_features['height'].fillna(clothes_features['height'].mean())\n",
    "print(clothes_features.isna().sum())"
   ]
  },
  {
   "cell_type": "code",
   "execution_count": 135,
   "metadata": {},
   "outputs": [
    {
     "name": "stdout",
     "output_type": "stream",
     "text": [
      "<class 'pandas.core.frame.DataFrame'>\n",
      "RangeIndex: 119734 entries, 0 to 119733\n",
      "Data columns (total 3 columns):\n",
      " #   Column  Non-Null Count   Dtype  \n",
      "---  ------  --------------   -----  \n",
      " 0   weight  119734 non-null  int64  \n",
      " 1   age     119734 non-null  float64\n",
      " 2   height  119734 non-null  float64\n",
      "dtypes: float64(2), int64(1)\n",
      "memory usage: 2.7 MB\n"
     ]
    }
   ],
   "source": [
    "clothes_features.info()"
   ]
  },
  {
   "cell_type": "code",
   "execution_count": 151,
   "metadata": {},
   "outputs": [
    {
     "data": {
      "text/plain": [
       "DecisionTreeClassifier(random_state=100)"
      ]
     },
     "execution_count": 151,
     "metadata": {},
     "output_type": "execute_result"
    }
   ],
   "source": [
    "from sklearn.tree import DecisionTreeClassifier\n",
    "from sklearn.model_selection import train_test_split\n",
    "\n",
    "X_train, X_test, y_train, y_test = train_test_split(clothes_features, clothes_label,\n",
    "                                                   test_size=0.3, random_state=100)\n",
    "\n",
    "dt_clf = DecisionTreeClassifier(random_state=100)                                                    \n",
    "dt_clf.fit(X_train,y_train)\n"
   ]
  },
  {
   "cell_type": "code",
   "execution_count": 155,
   "metadata": {},
   "outputs": [
    {
     "name": "stdout",
     "output_type": "stream",
     "text": [
      "예측 정확도: 0.5006\n"
     ]
    }
   ],
   "source": [
    "from sklearn.metrics import accuracy_score\n",
    "dt_pred = dt_clf.predict(X_test)\n",
    "print('예측 정확도: {0:.4f}'.format(accuracy_score(y_test, dt_pred)))"
   ]
  },
  {
   "cell_type": "code",
   "execution_count": 168,
   "metadata": {},
   "outputs": [
    {
     "name": "stdout",
     "output_type": "stream",
     "text": [
      "['XXS']\n",
      "['XXXL']\n",
      "['XXXL']\n",
      "['S']\n",
      "['XL']\n"
     ]
    }
   ],
   "source": [
    "X_test1 = [[50,20,160]]\n",
    "pred = dt_clf.predict(X_test1)\n",
    "print(pred)\n",
    "\n",
    "X_test2 = [[80,40,180]]\n",
    "pred = dt_clf.predict(X_test2)\n",
    "print(pred)\n",
    "\n",
    "X_test3 = [[60,30,175]]\n",
    "pred = dt_clf.predict(X_test3)\n",
    "print(pred)\n",
    "\n",
    "X_test4 = [[45,30,158]]\n",
    "pred = dt_clf.predict(X_test4)\n",
    "print(pred)\n",
    "\n",
    "X_test5 = [[70,50,175]]\n",
    "pred = dt_clf.predict(X_test5)\n",
    "print(pred)"
   ]
  },
  {
   "cell_type": "code",
   "execution_count": 181,
   "metadata": {},
   "outputs": [],
   "source": [
    "group_names = ['XXS','S','M','L','XL','XXL','XXXL']"
   ]
  },
  {
   "cell_type": "code",
   "execution_count": 215,
   "metadata": {},
   "outputs": [
    {
     "data": {
      "text/html": [
       "<div>\n",
       "<style scoped>\n",
       "    .dataframe tbody tr th:only-of-type {\n",
       "        vertical-align: middle;\n",
       "    }\n",
       "\n",
       "    .dataframe tbody tr th {\n",
       "        vertical-align: top;\n",
       "    }\n",
       "\n",
       "    .dataframe thead th {\n",
       "        text-align: right;\n",
       "    }\n",
       "</style>\n",
       "<table border=\"1\" class=\"dataframe\">\n",
       "  <thead>\n",
       "    <tr style=\"text-align: right;\">\n",
       "      <th></th>\n",
       "      <th>height</th>\n",
       "    </tr>\n",
       "    <tr>\n",
       "      <th>size</th>\n",
       "      <th></th>\n",
       "    </tr>\n",
       "  </thead>\n",
       "  <tbody>\n",
       "    <tr>\n",
       "      <th>XXXL</th>\n",
       "      <td>167.832240</td>\n",
       "    </tr>\n",
       "    <tr>\n",
       "      <th>XL</th>\n",
       "      <td>167.661523</td>\n",
       "    </tr>\n",
       "    <tr>\n",
       "      <th>L</th>\n",
       "      <td>166.941578</td>\n",
       "    </tr>\n",
       "    <tr>\n",
       "      <th>M</th>\n",
       "      <td>165.495854</td>\n",
       "    </tr>\n",
       "    <tr>\n",
       "      <th>S</th>\n",
       "      <td>163.768469</td>\n",
       "    </tr>\n",
       "    <tr>\n",
       "      <th>XXS</th>\n",
       "      <td>161.340871</td>\n",
       "    </tr>\n",
       "    <tr>\n",
       "      <th>XXL</th>\n",
       "      <td>160.388116</td>\n",
       "    </tr>\n",
       "  </tbody>\n",
       "</table>\n",
       "</div>"
      ],
      "text/plain": [
       "          height\n",
       "size            \n",
       "XXXL  167.832240\n",
       "XL    167.661523\n",
       "L     166.941578\n",
       "M     165.495854\n",
       "S     163.768469\n",
       "XXS   161.340871\n",
       "XXL   160.388116"
      ]
     },
     "execution_count": 215,
     "metadata": {},
     "output_type": "execute_result"
    }
   ],
   "source": [
    "clothes_groupby = clothes_df.groupby('size').agg({'height':'mean'})\n",
    "clothes_groupby.sort_values(by='height',ascending=False)"
   ]
  },
  {
   "cell_type": "code",
   "execution_count": 184,
   "metadata": {},
   "outputs": [
    {
     "data": {
      "text/plain": [
       "<AxesSubplot:xlabel='size', ylabel='height'>"
      ]
     },
     "execution_count": 184,
     "metadata": {},
     "output_type": "execute_result"
    },
    {
     "data": {
      "image/png": "[encoded data removed]",
      "text/plain": [
       "<Figure size 432x288 with 1 Axes>"
      ]
     },
     "metadata": {
      "needs_background": "light"
     },
     "output_type": "display_data"
    }
   ],
   "source": [
    "sns.barplot(x='size', y='height', data=clothes_df, order=group_names)"
   ]
  },
  {
   "cell_type": "code",
   "execution_count": 216,
   "metadata": {},
   "outputs": [
    {
     "data": {
      "text/html": [
       "<div>\n",
       "<style scoped>\n",
       "    .dataframe tbody tr th:only-of-type {\n",
       "        vertical-align: middle;\n",
       "    }\n",
       "\n",
       "    .dataframe tbody tr th {\n",
       "        vertical-align: top;\n",
       "    }\n",
       "\n",
       "    .dataframe thead th {\n",
       "        text-align: right;\n",
       "    }\n",
       "</style>\n",
       "<table border=\"1\" class=\"dataframe\">\n",
       "  <thead>\n",
       "    <tr style=\"text-align: right;\">\n",
       "      <th></th>\n",
       "      <th>weight</th>\n",
       "    </tr>\n",
       "    <tr>\n",
       "      <th>size</th>\n",
       "      <th></th>\n",
       "    </tr>\n",
       "  </thead>\n",
       "  <tbody>\n",
       "    <tr>\n",
       "      <th>XXXL</th>\n",
       "      <td>75.937357</td>\n",
       "    </tr>\n",
       "    <tr>\n",
       "      <th>XXL</th>\n",
       "      <td>66.376812</td>\n",
       "    </tr>\n",
       "    <tr>\n",
       "      <th>XL</th>\n",
       "      <td>65.576338</td>\n",
       "    </tr>\n",
       "    <tr>\n",
       "      <th>L</th>\n",
       "      <td>62.250526</td>\n",
       "    </tr>\n",
       "    <tr>\n",
       "      <th>M</th>\n",
       "      <td>58.207694</td>\n",
       "    </tr>\n",
       "    <tr>\n",
       "      <th>S</th>\n",
       "      <td>54.105592</td>\n",
       "    </tr>\n",
       "    <tr>\n",
       "      <th>XXS</th>\n",
       "      <td>50.545163</td>\n",
       "    </tr>\n",
       "  </tbody>\n",
       "</table>\n",
       "</div>"
      ],
      "text/plain": [
       "         weight\n",
       "size           \n",
       "XXXL  75.937357\n",
       "XXL   66.376812\n",
       "XL    65.576338\n",
       "L     62.250526\n",
       "M     58.207694\n",
       "S     54.105592\n",
       "XXS   50.545163"
      ]
     },
     "execution_count": 216,
     "metadata": {},
     "output_type": "execute_result"
    }
   ],
   "source": [
    "clothes_groupby = clothes_df.groupby('size').agg({'weight':'mean'})\n",
    "clothes_groupby.sort_values(by='weight',ascending=False)"
   ]
  },
  {
   "cell_type": "code",
   "execution_count": 185,
   "metadata": {},
   "outputs": [
    {
     "data": {
      "text/plain": [
       "<AxesSubplot:xlabel='size', ylabel='weight'>"
      ]
     },
     "execution_count": 185,
     "metadata": {},
     "output_type": "execute_result"
    },
    {
     "data": {
      "image/png": "[encoded data removed]",
      "text/plain": [
       "<Figure size 432x288 with 1 Axes>"
      ]
     },
     "metadata": {
      "needs_background": "light"
     },
     "output_type": "display_data"
    }
   ],
   "source": [
    "sns.barplot(x='size', y='weight', data=clothes_df, order=group_names)"
   ]
  },
  {
   "cell_type": "code",
   "execution_count": null,
   "metadata": {},
   "outputs": [],
   "source": []
  }
 ],
 "metadata": {
  "kernelspec": {
   "display_name": "Python 3",
   "language": "python",
   "name": "python3"
  },
  "language_info": {
   "codemirror_mode": {
    "name": "ipython",
    "version": 3
   },
   "file_extension": ".py",
   "mimetype": "text/x-python",
   "name": "python",
   "nbconvert_exporter": "python",
   "pygments_lexer": "ipython3",
   "version": "3.8.5"
  }
 },
 "nbformat": 4,
 "nbformat_minor": 4
}
