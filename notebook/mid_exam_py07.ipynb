{
  "nbformat": 4,
  "nbformat_minor": 0,
  "metadata": {
    "colab": {
      "name": "mid_exam_py07.ipynb",
      "provenance": [],
      "collapsed_sections": [],
      "authorship_tag": "ABX9TyMNZwCW3DsJwbgAnR++HCPx",
      "include_colab_link": true
    },
    "kernelspec": {
      "name": "python3",
      "display_name": "Python 3"
    }
  },
  "cells": [
    {
      "cell_type": "markdown",
      "metadata": {
        "id": "view-in-github",
        "colab_type": "text"
      },
      "source": [
        "<a href=\"https://colab.research.google.com/github/oceanshrimp/py07/blob/master/notebook/mid_exam_py07.ipynb\" target=\"_parent\"><img src=\"https://colab.research.google.com/assets/colab-badge.svg\" alt=\"Open In Colab\"/></a>"
      ]
    },
    {
      "cell_type": "markdown",
      "metadata": {
        "id": "IUuuWRUVdD5W",
        "colab_type": "text"
      },
      "source": [
        "## 파이썬활용 중간고사 풀이"
      ]
    },
    {
      "cell_type": "markdown",
      "metadata": {
        "id": "Lmt3acyydKDj",
        "colab_type": "text"
      },
      "source": [
        "### 문제1. 다음 식의 연산 결과는?"
      ]
    },
    {
      "cell_type": "code",
      "metadata": {
        "id": "A379Ub8yc6ne",
        "colab_type": "code",
        "colab": {
          "base_uri": "https://localhost:8080/",
          "height": 34
        },
        "outputId": "94682e35-f990-4c9d-fcdf-a50371e92c49"
      },
      "source": [
        "a = 5\n",
        "b = 3\n",
        "a**b"
      ],
      "execution_count": 1,
      "outputs": [
        {
          "output_type": "execute_result",
          "data": {
            "text/plain": [
              "125"
            ]
          },
          "metadata": {
            "tags": []
          },
          "execution_count": 1
        }
      ]
    },
    {
      "cell_type": "markdown",
      "metadata": {
        "id": "_LXCKztYBEK5",
        "colab_type": "text"
      },
      "source": [
        "#### a**b에서 **는 a의 b승을 말하므로 5의 3승은 125입니다."
      ]
    },
    {
      "cell_type": "markdown",
      "metadata": {
        "id": "4_TKjmIEdQgt",
        "colab_type": "text"
      },
      "source": [
        "### 문제2. 다음 문자열 a에 대하여 슬라이싱을 한 결과는?\n",
        "           a = \"Life is too short,you need Python!\""
      ]
    },
    {
      "cell_type": "code",
      "metadata": {
        "id": "JB8BkRKwdSR_",
        "colab_type": "code",
        "colab": {
          "base_uri": "https://localhost:8080/",
          "height": 34
        },
        "outputId": "2a0c1373-c032-417f-efe2-9c6d22efe6cf"
      },
      "source": [
        "a = \"Life is too short,you need Python!\"\n",
        "a[-16:-8]"
      ],
      "execution_count": 3,
      "outputs": [
        {
          "output_type": "execute_result",
          "data": {
            "text/plain": [
              "'you need'"
            ]
          },
          "metadata": {
            "tags": []
          },
          "execution_count": 3
        }
      ]
    },
    {
      "cell_type": "markdown",
      "metadata": {
        "id": "zZCL6OONB41s",
        "colab_type": "text"
      },
      "source": [
        "#### 슬라이싱에서 -1은 제일 뒤에 있는 숫자이다. 그리고 -1부터 차례대로보면      -16은 y, -8은 need 뒤 공백이다.하지만 포함을 안하므로 you need가 나온다."
      ]
    },
    {
      "cell_type": "markdown",
      "metadata": {
        "id": "Yna9XMTeCpim",
        "colab_type": "text"
      },
      "source": [
        "### 문제3. 다음 list a의 인덱싱 결과는? "
      ]
    },
    {
      "cell_type": "code",
      "metadata": {
        "id": "v5CrdFphBytj",
        "colab_type": "code",
        "colab": {
          "base_uri": "https://localhost:8080/",
          "height": 34
        },
        "outputId": "c1366cf6-5a07-4b18-d28c-9ddaf7b7f506"
      },
      "source": [
        "a = [1,2,(3,4),['a','b',['My','Life','Good']]]\n",
        "a[3][-1][0]"
      ],
      "execution_count": 4,
      "outputs": [
        {
          "output_type": "execute_result",
          "data": {
            "text/plain": [
              "'My'"
            ]
          },
          "metadata": {
            "tags": []
          },
          "execution_count": 4
        }
      ]
    },
    {
      "cell_type": "markdown",
      "metadata": {
        "id": "zDeBTsxYDC50",
        "colab_type": "text"
      },
      "source": [
        "#### a[3]은 ['a','b',['My','Life','Good']]부분이고 여기서 -1은 ['My','Life','Good']이다. ['My','Life','Good']에서 0부분은 'My'이다. "
      ]
    },
    {
      "cell_type": "markdown",
      "metadata": {
        "id": "aMJIbnDuDtdi",
        "colab_type": "text"
      },
      "source": [
        "### 문제4.다음 tuple t1의 슬라이싱 결과는?"
      ]
    },
    {
      "cell_type": "code",
      "metadata": {
        "id": "KBeF3ivVC_N6",
        "colab_type": "code",
        "colab": {
          "base_uri": "https://localhost:8080/",
          "height": 34
        },
        "outputId": "acdb8928-4d07-4630-9751-52b96658bfab"
      },
      "source": [
        "t1 = (0,1,\"s\", \"t\", \"u\")\n",
        "t1[2:-2]"
      ],
      "execution_count": 5,
      "outputs": [
        {
          "output_type": "execute_result",
          "data": {
            "text/plain": [
              "('s',)"
            ]
          },
          "metadata": {
            "tags": []
          },
          "execution_count": 5
        }
      ]
    },
    {
      "cell_type": "markdown",
      "metadata": {
        "id": "GX6Qssm6D6u4",
        "colab_type": "text"
      },
      "source": [
        "#### t1[2:-2]에서 2는 \"s\", -2는 \"t\"이다. 하지만 -2는 포함되지않으므로 \"s\"인데 튜플에서 하나만 나오면 콤마를 붙여야된다. 그러므로 (\"s\",)이다"
      ]
    },
    {
      "cell_type": "markdown",
      "metadata": {
        "id": "Kl6CmMm-EsGh",
        "colab_type": "text"
      },
      "source": [
        "### 문제5. 다음 bool 값 출력 중 정확한 것은?"
      ]
    },
    {
      "cell_type": "code",
      "metadata": {
        "id": "rM3A7_PkD5yT",
        "colab_type": "code",
        "colab": {
          "base_uri": "https://localhost:8080/",
          "height": 34
        },
        "outputId": "84f3a915-af83-4f67-e2b1-87a8d980ff51"
      },
      "source": [
        "bool([0,1,2]),bool([0]), bool((0)), bool((0,))"
      ],
      "execution_count": 6,
      "outputs": [
        {
          "output_type": "execute_result",
          "data": {
            "text/plain": [
              "(True, True, False, True)"
            ]
          },
          "metadata": {
            "tags": []
          },
          "execution_count": 6
        }
      ]
    },
    {
      "cell_type": "markdown",
      "metadata": {
        "id": "-n1wy8L6FDGu",
        "colab_type": "text"
      },
      "source": [
        "#### bool값에서도 튜플인 경우에 하나가 나오면 예외없이 콤마를 붙여줘야되기 때문에 False가 나온다 "
      ]
    },
    {
      "cell_type": "markdown",
      "metadata": {
        "id": "wWJ3qEJ0Fdgv",
        "colab_type": "text"
      },
      "source": [
        "### 문제6. 다음 조건문을 1줄 코드로 변경하시오."
      ]
    },
    {
      "cell_type": "code",
      "metadata": {
        "id": "-tmRG_CnE9WT",
        "colab_type": "code",
        "colab": {}
      },
      "source": [
        "score = 80\n",
        "if score >= 60:\n",
        "  message = \"success\"\n",
        "else:\n",
        "  message = \"failure\""
      ],
      "execution_count": 0,
      "outputs": []
    },
    {
      "cell_type": "code",
      "metadata": {
        "id": "6iDE4l-xnwzY",
        "colab_type": "code",
        "colab": {
          "base_uri": "https://localhost:8080/",
          "height": 34
        },
        "outputId": "2f041438-54ef-4dab-c7a2-10a87a272651"
      },
      "source": [
        "score = 80\n",
        "message = \"success\" if score>=60 else \"failure\"\n",
        "print(message)"
      ],
      "execution_count": 26,
      "outputs": [
        {
          "output_type": "stream",
          "text": [
            "success\n"
          ],
          "name": "stdout"
        }
      ]
    },
    {
      "cell_type": "markdown",
      "metadata": {
        "id": "nLB7jGb2oYAv",
        "colab_type": "text"
      },
      "source": [
        "#### 조건문을 1줄 코드로 바꾸기 위해 조건부 표현식을 사용하면됩니다."
      ]
    },
    {
      "cell_type": "markdown",
      "metadata": {
        "id": "uD1WHhf_of1m",
        "colab_type": "text"
      },
      "source": [
        "### 문제7. 다음 코드의 실행 결과는?"
      ]
    },
    {
      "cell_type": "code",
      "metadata": {
        "id": "RZlyFoZ6oBfj",
        "colab_type": "code",
        "colab": {
          "base_uri": "https://localhost:8080/",
          "height": 34
        },
        "outputId": "cd8ff87f-e44e-44a7-b5b8-fe03f881753c"
      },
      "source": [
        "games = [\"A\", \"B\", \"C\"]\n",
        "\n",
        "for cnt in range(len(games)):\n",
        "    print(cnt, games[cnt], end=',')"
      ],
      "execution_count": 11,
      "outputs": [
        {
          "output_type": "stream",
          "text": [
            "0 A,1 B,2 C,"
          ],
          "name": "stdout"
        }
      ]
    },
    {
      "cell_type": "markdown",
      "metadata": {
        "id": "4wKdk6nfrRTd",
        "colab_type": "text"
      },
      "source": [
        "#### range(len(games))는 games의 요소 개수를 돌려주는 것인데 안에 3개니 3이 됩니다. 그러므로 cnt에 0부터 2까지 대입됩니다."
      ]
    },
    {
      "cell_type": "markdown",
      "metadata": {
        "id": "CygmXzS-rrJp",
        "colab_type": "text"
      },
      "source": [
        "### 문제8. 다음의 결과가 출력되지 않는 것은? 'I ate 10 apples. so I was sick for three days.' "
      ]
    },
    {
      "cell_type": "code",
      "metadata": {
        "id": "DvX7rdOXp88E",
        "colab_type": "code",
        "colab": {
          "base_uri": "https://localhost:8080/",
          "height": 134
        },
        "outputId": "82c11b99-9494-4081-d896-326a1875b47f"
      },
      "source": [
        "number = 10\n",
        "day = \"three\"\n",
        "print(\"I ate {0} apples. so I was sick for {1} days.\".format(10,day))\n",
        "print(f\"I ate {number} apples. so I was sick for {day} days.\")\n",
        "print(f\"I ate {number} apples. so I was sick for {'three'} days.\")\n",
        "print(\"I ate {0} apples. so I was sick for {1} days.\".format(number=10,day))"
      ],
      "execution_count": 24,
      "outputs": [
        {
          "output_type": "error",
          "ename": "SyntaxError",
          "evalue": "ignored",
          "traceback": [
            "\u001b[0;36m  File \u001b[0;32m\"<ipython-input-24-046979cf0bbd>\"\u001b[0;36m, line \u001b[0;32m6\u001b[0m\n\u001b[0;31m    print(\"I ate {0} apples. so I was sick for {1} days.\".format(number=10,day))\u001b[0m\n\u001b[0m                                                                          ^\u001b[0m\n\u001b[0;31mSyntaxError\u001b[0m\u001b[0;31m:\u001b[0m positional argument follows keyword argument\n"
          ]
        }
      ]
    },
    {
      "cell_type": "markdown",
      "metadata": {
        "id": "zAa-mHEDtlHg",
        "colab_type": "text"
      },
      "source": [
        "#### 이미 number가 키워드로 지정되었기 때문에 포지션 지정을 할 수 없습니다. 포지션 지정이 키워드 지정보다 먼저 나와야 합니다\n"
      ]
    },
    {
      "cell_type": "markdown",
      "metadata": {
        "id": "_mNKmwWRueL2",
        "colab_type": "text"
      },
      "source": [
        "### 문제9. 리스트 내포를 사용해 1부터 1000이하의 자연수 중 5의 배수의 합을 구하는 한 줄 코드를 작성하시오."
      ]
    },
    {
      "cell_type": "code",
      "metadata": {
        "id": "afsG8C0jr60J",
        "colab_type": "code",
        "colab": {
          "base_uri": "https://localhost:8080/",
          "height": 34
        },
        "outputId": "ae10d028-22c0-48c3-ca83-558c8b52b347"
      },
      "source": [
        "sum([num for num in range(1,1001) if num % 5 ==0])"
      ],
      "execution_count": 27,
      "outputs": [
        {
          "output_type": "execute_result",
          "data": {
            "text/plain": [
              "100500"
            ]
          },
          "metadata": {
            "tags": []
          },
          "execution_count": 27
        }
      ]
    },
    {
      "cell_type": "markdown",
      "metadata": {
        "id": "XNjMtaZGvsqa",
        "colab_type": "text"
      },
      "source": [
        "#### if num % 5 ==0으로 5의 배수를 구하고 range(1,1001)로 1부터 1000이하의 자연수를 나타내어 sum으로 합을 구하는 형태입니다."
      ]
    },
    {
      "cell_type": "markdown",
      "metadata": {
        "id": "4taYMID5wBeb",
        "colab_type": "text"
      },
      "source": [
        "### 문제10. 4개 과목의 평균 성적을 구하시오. [a],[b]에 적합한 코드는?"
      ]
    },
    {
      "cell_type": "code",
      "metadata": {
        "id": "zT519nbmvi1y",
        "colab_type": "code",
        "colab": {}
      },
      "source": [
        "subjects = ['python','english','math','science']\n",
        "scores = [88,77,66,95]\n",
        "total= 0\n",
        "\n",
        "for subject, score in [a]._______(subjects, scores):\n",
        "    total += score\n",
        "    print(subject, score)\n",
        "\n",
        "print(\"평균 점수 = {0}\".format([b].__________))"
      ],
      "execution_count": 0,
      "outputs": []
    },
    {
      "cell_type": "code",
      "metadata": {
        "id": "_oC2rwclxNZr",
        "colab_type": "code",
        "colab": {}
      },
      "source": [
        "[a] = zip(subjects, scores) [b] = total/len(subjects)"
      ],
      "execution_count": 0,
      "outputs": []
    },
    {
      "cell_type": "markdown",
      "metadata": {
        "id": "oe2u7B1GyrQY",
        "colab_type": "text"
      },
      "source": [
        "#### zip함수는  zip(subjects, scores)나 list(zip(subjects, scores))같은 형태로 만들어집니다. 그리고 평균점수는 문자열포매팅에 전체 합에 subjects의 요소 개수를 나눠야 됩니다."
      ]
    },
    {
      "cell_type": "code",
      "metadata": {
        "id": "BQZUhbd2zKL-",
        "colab_type": "code",
        "colab": {}
      },
      "source": [
        ""
      ],
      "execution_count": 0,
      "outputs": []
    }
  ]
}