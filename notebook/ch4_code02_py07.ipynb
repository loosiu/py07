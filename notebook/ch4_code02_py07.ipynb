{
  "nbformat": 4,
  "nbformat_minor": 0,
  "metadata": {
    "colab": {
      "name": "ch4_code02_py07.ipynb",
      "provenance": [],
      "collapsed_sections": [],
      "include_colab_link": true
    },
    "kernelspec": {
      "display_name": "Python 3",
      "language": "python",
      "name": "python3"
    },
    "language_info": {
      "codemirror_mode": {
        "name": "ipython",
        "version": 3
      },
      "file_extension": ".py",
      "mimetype": "text/x-python",
      "name": "python",
      "nbconvert_exporter": "python",
      "pygments_lexer": "ipython3",
      "version": "3.7.5"
    }
  },
  "cells": [
    {
      "cell_type": "markdown",
      "metadata": {
        "id": "view-in-github",
        "colab_type": "text"
      },
      "source": [
        "<a href=\"https://colab.research.google.com/github/oceanshrimp/py07/blob/master/notebook/ch4_code02_py07.ipynb\" target=\"_parent\"><img src=\"https://colab.research.google.com/assets/colab-badge.svg\" alt=\"Open In Colab\"/></a>"
      ]
    },
    {
      "cell_type": "markdown",
      "metadata": {
        "colab_type": "text",
        "id": "H4jNE-BMAK3f"
      },
      "source": [
        "# ch4_code02.ipynb\n",
        "## py07  (change to your id)\n",
        "- 사용자 입력과 출력\n",
        "   - 사용자 입력\n",
        "     - input의 사용\n",
        "     - 프롬프트를 띄워서 사용자 입력 받기\n",
        "   - print 자세히 알기\n",
        "     - 큰따옴표(\")로 둘러싸인 문자열은 + 연산과 동일하다\n",
        "     - 문자열 띄어쓰기는 콤마로 한다\n",
        "     - 한 줄에 결괏값 출력하기\n",
        "---\n",
        "- 파일 읽고 쓰기\n",
        "   - 파일 생성하기\n",
        "   - 파일을 쓰기 모드로 열어 출력값 적기\n",
        "   - 프로그램의 외부에 저장된 파일을 읽는 여러 가지 방법\n",
        "     - readline() 함수 이용하기\n",
        "     - readlines 함수 사용하기\n",
        "     - read 함수 사용하기\n",
        "   - 파일에 새로운 내용 추가하기\n",
        "   - with문과 함께 사용하기"
      ]
    },
    {
      "cell_type": "markdown",
      "metadata": {
        "id": "uRmeDLFPxvEG",
        "colab_type": "text"
      },
      "source": [
        "### user io"
      ]
    },
    {
      "cell_type": "markdown",
      "metadata": {
        "id": "ODdHwZAWfWG1",
        "colab_type": "text"
      },
      "source": [
        "## 사용자 입력과 출력"
      ]
    },
    {
      "cell_type": "code",
      "metadata": {
        "id": "hXPcvn1CtW6z",
        "colab_type": "code",
        "colab": {
          "base_uri": "https://localhost:8080/",
          "height": 35
        },
        "outputId": "97fc34e3-0ab5-47db-8d2c-2b7f4d0629d3"
      },
      "source": [
        "# ch4_02_user_io.py\n",
        "#\n",
        "print(\"사용자 입력과 출력\")\n",
        "#######################################\n",
        "# 사용자의 입력을 받는 방법과 출력하는 방법\n",
        "#######################################"
      ],
      "execution_count": 1,
      "outputs": [
        {
          "output_type": "stream",
          "text": [
            "사용자 입력과 출력\n"
          ],
          "name": "stdout"
        }
      ]
    },
    {
      "cell_type": "code",
      "metadata": {
        "id": "vQqQAMqqfd5O",
        "colab_type": "code",
        "colab": {
          "base_uri": "https://localhost:8080/",
          "height": 89
        },
        "outputId": "a634118d-b36c-4fef-938d-88c968803bb8"
      },
      "source": [
        "print(\"사용자 입력\")\n",
        "# 사용자가 입력한 값을 어떤 변수에 대입\n",
        "#######################################\n",
        "print(\"input의 사용\")\n",
        "#######################################\n",
        "\n",
        "a = input()\n",
        "# Life is too short, you need python\n",
        "a"
      ],
      "execution_count": 2,
      "outputs": [
        {
          "output_type": "stream",
          "text": [
            "사용자 입력\n",
            "input의 사용\n",
            "Life is too short, you need python\n"
          ],
          "name": "stdout"
        },
        {
          "output_type": "execute_result",
          "data": {
            "text/plain": [
              "'Life is too short, you need python'"
            ]
          },
          "metadata": {
            "tags": []
          },
          "execution_count": 2
        }
      ]
    },
    {
      "cell_type": "code",
      "metadata": {
        "id": "s1GzfMnPfl16",
        "colab_type": "code",
        "colab": {
          "base_uri": "https://localhost:8080/",
          "height": 71
        },
        "outputId": "82045ad5-5a3c-454f-fc21-7df3fca1cf92"
      },
      "source": [
        "print(\"입력 안내 문구를 이용한 input의 사용\")\n",
        "#######################################\n",
        "# input(\"안내 문구\")\n",
        "#######################################\n",
        "\n",
        "number = input(\"숫자를 입력하세요: \")\n",
        "\n",
        "print(number)"
      ],
      "execution_count": 4,
      "outputs": [
        {
          "output_type": "stream",
          "text": [
            "입력 안내 문구를 이용한 input의 사용\n",
            "숫자를 입력하세요: abcd\n",
            "abcd\n"
          ],
          "name": "stdout"
        }
      ]
    },
    {
      "cell_type": "code",
      "metadata": {
        "id": "-n18hY9agRM4",
        "colab_type": "code",
        "colab": {
          "base_uri": "https://localhost:8080/",
          "height": 53
        },
        "outputId": "5a5751ca-b8bd-41eb-f193-cee2f8f266b1"
      },
      "source": [
        "number=input(\"숫자만 입력하세요!\")\n",
        "if number.isnumeric():\n",
        "    print(number)\n",
        "else:\n",
        "    print(\"경고: 숫자만 입력하세요!\")"
      ],
      "execution_count": 6,
      "outputs": [
        {
          "output_type": "stream",
          "text": [
            "숫자만 입력하세요!123\n",
            "123\n"
          ],
          "name": "stdout"
        }
      ]
    },
    {
      "cell_type": "markdown",
      "metadata": {
        "id": "4C6BCOSLhPmu",
        "colab_type": "text"
      },
      "source": [
        "### 사용자 출력: print()"
      ]
    },
    {
      "cell_type": "code",
      "metadata": {
        "id": "jwVIaeK_gF6o",
        "colab_type": "code",
        "colab": {
          "base_uri": "https://localhost:8080/",
          "height": 107
        },
        "outputId": "913b048b-73aa-4f97-cf5c-0b9b12565fe6"
      },
      "source": [
        "print(\"사용자 출력: print()\")\n",
        "# 입력한 자료형을 출력\n",
        "#######################################\n",
        "print(\"print의 사용\")\n",
        "#######################################\n",
        "\n",
        "a = 123\n",
        "print(a)\n",
        "\n",
        "a = \"Python\"\n",
        "print(a)\n",
        "\n",
        "a = [1, 2, 3]\n",
        "print(a)"
      ],
      "execution_count": 7,
      "outputs": [
        {
          "output_type": "stream",
          "text": [
            "사용자 출력: print()\n",
            "print의 사용\n",
            "123\n",
            "Python\n",
            "[1, 2, 3]\n"
          ],
          "name": "stdout"
        }
      ]
    },
    {
      "cell_type": "code",
      "metadata": {
        "id": "x56aLrwEhesN",
        "colab_type": "code",
        "colab": {
          "base_uri": "https://localhost:8080/",
          "height": 71
        },
        "outputId": "01ab0f95-4c56-4066-af41-50d3f50adfb6"
      },
      "source": [
        "#######################################\n",
        "print(\"큰따옴표(\\\")로 둘러싸인 문자열은 + 연산과 동일\")\n",
        "#\n",
        "print(\"life\" \"is\" \"too short\")\n",
        "print(\"life\"+\"is\"+\"too short\")"
      ],
      "execution_count": 8,
      "outputs": [
        {
          "output_type": "stream",
          "text": [
            "큰따옴표(\")로 둘러싸인 문자열은 + 연산과 동일\n",
            "lifeistoo short\n",
            "lifeistoo short\n"
          ],
          "name": "stdout"
        }
      ]
    },
    {
      "cell_type": "code",
      "metadata": {
        "id": "EI_kUk6Khv5x",
        "colab_type": "code",
        "colab": {
          "base_uri": "https://localhost:8080/",
          "height": 53
        },
        "outputId": "293f535a-91bd-4e94-cddf-6d6ead6ab5c4"
      },
      "source": [
        "#######################################\n",
        "print(\"문자열 띄어쓰기는 콤마로 한다\")\n",
        "#\n",
        "print(\"life\", \"is\", \"too short\")"
      ],
      "execution_count": 9,
      "outputs": [
        {
          "output_type": "stream",
          "text": [
            "문자열 띄어쓰기는 콤마로 한다\n",
            "life is too short\n"
          ],
          "name": "stdout"
        }
      ]
    },
    {
      "cell_type": "code",
      "metadata": {
        "id": "tVFo5BbniKzG",
        "colab_type": "code",
        "colab": {
          "base_uri": "https://localhost:8080/",
          "height": 53
        },
        "outputId": "5d5e0f15-5c6d-4de2-f3fc-9f7dcd7b8ff1"
      },
      "source": [
        "#######################################\n",
        "print(\"한 줄에 결괏값 출력하기\")\n",
        "#\n",
        "for i in range(10):\n",
        "    print(i, end=',')\n"
      ],
      "execution_count": 11,
      "outputs": [
        {
          "output_type": "stream",
          "text": [
            "한 줄에 결괏값 출력하기\n",
            "0,1,2,3,4,5,6,7,8,9,"
          ],
          "name": "stdout"
        }
      ]
    },
    {
      "cell_type": "markdown",
      "metadata": {
        "id": "UWweVZiOxmUE",
        "colab_type": "text"
      },
      "source": [
        "### File io : 파일 입출력"
      ]
    },
    {
      "cell_type": "code",
      "metadata": {
        "id": "XKHVBjDWxSz1",
        "colab_type": "code",
        "colab": {
          "base_uri": "https://localhost:8080/",
          "height": 35
        },
        "outputId": "a7b14014-c7e7-48b7-e8b9-304e7c2f5bbc"
      },
      "source": [
        "# ch4_03_file_io.py\n",
        "#\n",
        "print(\"파일 읽고 쓰기\")\n",
        "#######################################\n",
        "# 파일을 통한 입출력 방법에 대해 알아보자.\n",
        "#######################################"
      ],
      "execution_count": 12,
      "outputs": [
        {
          "output_type": "stream",
          "text": [
            "파일 읽고 쓰기\n"
          ],
          "name": "stdout"
        }
      ]
    },
    {
      "cell_type": "markdown",
      "metadata": {
        "id": "ATBkxvA2mHp7",
        "colab_type": "text"
      },
      "source": [
        "### 파일 객체 = open(파일 이름, 파일 열기 모드)\n",
        "\n",
        "- 파일열기모드\n",
        "    - r\t읽기모드 - 파일을 읽기만 할 때 사용\n",
        "    - w\t쓰기모드 - 파일에 내용을 쓸 때 사용\n",
        "    - a\t추가모드 - 파일의 마지막에 새로운 내용을 추가 시킬 때 사용"
      ]
    },
    {
      "cell_type": "code",
      "metadata": {
        "id": "-kX2908Sl1lS",
        "colab_type": "code",
        "colab": {
          "base_uri": "https://localhost:8080/",
          "height": 53
        },
        "outputId": "8945fa2f-fa6c-44f7-dae5-82908b50ab7c"
      },
      "source": [
        "print(\"파일 쓰기(생성하기)\")\n",
        "#\n",
        "# 파일 객체 = open(파일 이름, 파일 열기 모드)\n",
        "#\n",
        "# 파일열기모드\n",
        "# r\t읽기모드 - 파일을 읽기만 할 때 사용\n",
        "# w\t쓰기모드 - 파일에 내용을 쓸 때 사용\n",
        "# a\t추가모드 - 파일의 마지막에 새로운 내용을 추가 시킬 때 사용\n",
        "#\n",
        "\n",
        "f = open(\"새파일.txt\", \"w\")\n",
        "f.close()\n",
        "# 파일이 어디에 만들어졌는 지 확인하시오!!!\n",
        "\n",
        "# 다른 폴더에 파일 생성\n",
        "\"\"\"\n",
        "f = open(\"C:/doit/새파일.txt\", 'w')\n",
        "f.close()\n",
        "\"\"\""
      ],
      "execution_count": 13,
      "outputs": [
        {
          "output_type": "stream",
          "text": [
            "파일 쓰기(생성하기)\n"
          ],
          "name": "stdout"
        },
        {
          "output_type": "execute_result",
          "data": {
            "text/plain": [
              "'\\nf = open(\"C:/doit/새파일.txt\", \\'w\\')\\nf.close()\\n'"
            ]
          },
          "metadata": {
            "tags": []
          },
          "execution_count": 13
        }
      ]
    },
    {
      "cell_type": "code",
      "metadata": {
        "id": "6GTULhh4nuVg",
        "colab_type": "code",
        "colab": {}
      },
      "source": [
        "f = open(\"doit/새파일2.txt\", 'w')\n",
        "f.close()"
      ],
      "execution_count": 0,
      "outputs": []
    },
    {
      "cell_type": "code",
      "metadata": {
        "id": "E6Y8Epq9l7fz",
        "colab_type": "code",
        "colab": {
          "base_uri": "https://localhost:8080/",
          "height": 395
        },
        "outputId": "e28d44c4-e8ea-4017-fe45-bde0364b1811"
      },
      "source": [
        "print(\"파일을 쓰기 모드로 열어 출력값 적기\")\n",
        "#######################################\n",
        "# 프로그램의 출력값을 파일에 직접 써 보자.\n",
        "#######################################\n",
        "# 모니터에 출력\n",
        "for i in range(1, 11):\n",
        "    data = \"%d번째 줄입니다.\\n\" % i\n",
        "    print(data)\n"
      ],
      "execution_count": 18,
      "outputs": [
        {
          "output_type": "stream",
          "text": [
            "파일을 쓰기 모드로 열어 출력값 적기\n",
            "1번째 줄입니다.\n",
            "\n",
            "2번째 줄입니다.\n",
            "\n",
            "3번째 줄입니다.\n",
            "\n",
            "4번째 줄입니다.\n",
            "\n",
            "5번째 줄입니다.\n",
            "\n",
            "6번째 줄입니다.\n",
            "\n",
            "7번째 줄입니다.\n",
            "\n",
            "8번째 줄입니다.\n",
            "\n",
            "9번째 줄입니다.\n",
            "\n",
            "10번째 줄입니다.\n",
            "\n"
          ],
          "name": "stdout"
        }
      ]
    },
    {
      "cell_type": "code",
      "metadata": {
        "id": "jt7FBQjvovej",
        "colab_type": "code",
        "colab": {}
      },
      "source": [
        "# 파일에 기록(출력)\n",
        "# writedata.py\n",
        "f = open(\"./새파일.txt\", \"w\")\n",
        "for i in range(1, 11):\n",
        "    data = \"%d번째 줄입니다.\\n\" % i\n",
        "    f.write(data)\n",
        "\n",
        "\n",
        "f.close()\n",
        "\n",
        "# 출력 파일의 한글이 깨지면\n",
        "# 파일 > 기본설정 > 설정 > Files: Auto Guess Encoding 을 지정(check)\n",
        "#"
      ],
      "execution_count": 0,
      "outputs": []
    },
    {
      "cell_type": "markdown",
      "metadata": {
        "id": "an6eUFVmpyoI",
        "colab_type": "text"
      },
      "source": [
        "### 파일읽기\n",
        "1. readline() 함수 이용하기\n",
        "2. readlines 함수 사용하기\n",
        "3. read 함수 사용하기"
      ]
    },
    {
      "cell_type": "code",
      "metadata": {
        "id": "AEWv1nMxpfgL",
        "colab_type": "code",
        "colab": {
          "base_uri": "https://localhost:8080/",
          "height": 71
        },
        "outputId": "3a43e891-7c49-4494-cc50-f535cfec95a9"
      },
      "source": [
        "###################################################\n",
        "print(\"파일 읽기\")\n",
        "#\n",
        "# 파일 객체 = open(파일 이름, 파일 열기 모드)\n",
        "#\n",
        "# 파일읽기\n",
        "# readline() 함수 이용하기\n",
        "# readlines 함수 사용하기\n",
        "# read 함수 사용하기\n",
        "#\n",
        "# 1. readline() 함수\n",
        "# readline_test.py\n",
        "f = open(\"새파일.txt\", \"r\")\n",
        "line = f.readline()\n",
        "print(line)\n",
        "f.close()\n"
      ],
      "execution_count": 20,
      "outputs": [
        {
          "output_type": "stream",
          "text": [
            "파일 읽기\n",
            "1번째 줄입니다.\n",
            "\n"
          ],
          "name": "stdout"
        }
      ]
    },
    {
      "cell_type": "code",
      "metadata": {
        "id": "PGvLG00BqWct",
        "colab_type": "code",
        "colab": {
          "base_uri": "https://localhost:8080/",
          "height": 377
        },
        "outputId": "55984677-db05-4707-b441-217f74edd710"
      },
      "source": [
        "# readline_all.py\n",
        "f = open(\"새파일.txt\", \"r\")\n",
        "while True:\n",
        "    line = f.readline()\n",
        "    if not line:\n",
        "        break\n",
        "    print(line)\n",
        "f.close()\n"
      ],
      "execution_count": 21,
      "outputs": [
        {
          "output_type": "stream",
          "text": [
            "1번째 줄입니다.\n",
            "\n",
            "2번째 줄입니다.\n",
            "\n",
            "3번째 줄입니다.\n",
            "\n",
            "4번째 줄입니다.\n",
            "\n",
            "5번째 줄입니다.\n",
            "\n",
            "6번째 줄입니다.\n",
            "\n",
            "7번째 줄입니다.\n",
            "\n",
            "8번째 줄입니다.\n",
            "\n",
            "9번째 줄입니다.\n",
            "\n",
            "10번째 줄입니다.\n",
            "\n"
          ],
          "name": "stdout"
        }
      ]
    },
    {
      "cell_type": "code",
      "metadata": {
        "id": "BiN14U-gqltT",
        "colab_type": "code",
        "colab": {
          "base_uri": "https://localhost:8080/",
          "height": 179
        },
        "outputId": "40b404f8-c29c-436b-cab3-461d3d6227ed"
      },
      "source": [
        "# 사용자 입력을 이용한 화면 출력\n",
        "while 1:\n",
        "    data = input()\n",
        "    if not data:\n",
        "        break\n",
        "    print(data)\n"
      ],
      "execution_count": 22,
      "outputs": [
        {
          "output_type": "stream",
          "text": [
            "abcd\n",
            "abcd\n",
            "1\n",
            "1\n",
            "33\n",
            "33\n",
            "0\n",
            "0\n",
            "\n"
          ],
          "name": "stdout"
        }
      ]
    },
    {
      "cell_type": "code",
      "metadata": {
        "id": "G-0g86N2rWwR",
        "colab_type": "code",
        "colab": {
          "base_uri": "https://localhost:8080/",
          "height": 197
        },
        "outputId": "b401f673-7d95-492a-fc9b-e16a101edafa"
      },
      "source": [
        "# 2. readlines() 함수\n",
        "f = open(\"새파일.txt\", \"r\")\n",
        "lines = f.readlines()\n",
        "for line in lines:\n",
        "    print(line, end=\"\")\n",
        "f.close()\n"
      ],
      "execution_count": 24,
      "outputs": [
        {
          "output_type": "stream",
          "text": [
            "1번째 줄입니다.\n",
            "2번째 줄입니다.\n",
            "3번째 줄입니다.\n",
            "4번째 줄입니다.\n",
            "5번째 줄입니다.\n",
            "6번째 줄입니다.\n",
            "7번째 줄입니다.\n",
            "8번째 줄입니다.\n",
            "9번째 줄입니다.\n",
            "10번째 줄입니다.\n"
          ],
          "name": "stdout"
        }
      ]
    },
    {
      "cell_type": "code",
      "metadata": {
        "id": "6rrSNmbMr3wi",
        "colab_type": "code",
        "colab": {
          "base_uri": "https://localhost:8080/",
          "height": 215
        },
        "outputId": "a1d79930-18be-423e-84ee-70125a7508ea"
      },
      "source": [
        "# 3. read() 함수\n",
        "f = open(\"새파일.txt\", \"r\")\n",
        "data = f.read()\n",
        "print(data)\n",
        "f.close()\n"
      ],
      "execution_count": 25,
      "outputs": [
        {
          "output_type": "stream",
          "text": [
            "1번째 줄입니다.\n",
            "2번째 줄입니다.\n",
            "3번째 줄입니다.\n",
            "4번째 줄입니다.\n",
            "5번째 줄입니다.\n",
            "6번째 줄입니다.\n",
            "7번째 줄입니다.\n",
            "8번째 줄입니다.\n",
            "9번째 줄입니다.\n",
            "10번째 줄입니다.\n",
            "\n"
          ],
          "name": "stdout"
        }
      ]
    },
    {
      "cell_type": "code",
      "metadata": {
        "id": "IqI_0Sm1sTHd",
        "colab_type": "code",
        "colab": {
          "base_uri": "https://localhost:8080/",
          "height": 35
        },
        "outputId": "db1765a1-6b5f-4adc-a9c0-fafbf8cabd95"
      },
      "source": [
        "###################################################\n",
        "print(\"파일에 새로운 내용 추가하기\")\n",
        "#\n",
        "# 파일에 원래 있던 값을 유지하면서 단지 새로운 값만 추가\n",
        "# 파일을 추가 모드('a')로 열고 쓴다.\n",
        "#\n",
        "# adddata.py\n",
        "f = open(\"새파일.txt\", \"a\")\n",
        "for i in range(11, 20):\n",
        "    data = \"%d번째 줄입니다.\\n\" % i\n",
        "    f.write(data)\n",
        "f.close()\n"
      ],
      "execution_count": 26,
      "outputs": [
        {
          "output_type": "stream",
          "text": [
            "파일에 새로운 내용 추가하기\n"
          ],
          "name": "stdout"
        }
      ]
    },
    {
      "cell_type": "code",
      "metadata": {
        "id": "vf48fFa7skIH",
        "colab_type": "code",
        "colab": {
          "base_uri": "https://localhost:8080/",
          "height": 377
        },
        "outputId": "7a348af1-a147-4749-98ab-5b00adbd8181"
      },
      "source": [
        "# 수정된 파일 확인\n",
        "f = open(\"새파일.txt\", \"r\")\n",
        "data = f.read()\n",
        "print(data)\n",
        "f.close()\n"
      ],
      "execution_count": 27,
      "outputs": [
        {
          "output_type": "stream",
          "text": [
            "1번째 줄입니다.\n",
            "2번째 줄입니다.\n",
            "3번째 줄입니다.\n",
            "4번째 줄입니다.\n",
            "5번째 줄입니다.\n",
            "6번째 줄입니다.\n",
            "7번째 줄입니다.\n",
            "8번째 줄입니다.\n",
            "9번째 줄입니다.\n",
            "10번째 줄입니다.\n",
            "11번째 줄입니다.\n",
            "12번째 줄입니다.\n",
            "13번째 줄입니다.\n",
            "14번째 줄입니다.\n",
            "15번째 줄입니다.\n",
            "16번째 줄입니다.\n",
            "17번째 줄입니다.\n",
            "18번째 줄입니다.\n",
            "19번째 줄입니다.\n",
            "\n"
          ],
          "name": "stdout"
        }
      ]
    },
    {
      "cell_type": "markdown",
      "metadata": {
        "id": "PuQVPZlItS8M",
        "colab_type": "text"
      },
      "source": [
        "### with in file io\n",
        "> with문을 사용하면 with 블록을 벗어나는 순간 열린 파일 객체 f가 자동으로 close 된다."
      ]
    },
    {
      "cell_type": "code",
      "metadata": {
        "id": "PdVVwK_Bs1WA",
        "colab_type": "code",
        "colab": {
          "base_uri": "https://localhost:8080/",
          "height": 35
        },
        "outputId": "d1e7d344-da21-4ba5-bc27-0e037dc67f50"
      },
      "source": [
        "###################################################\n",
        "print(\"with문과 함께 사용하기\")\n",
        "#\n",
        "# with문을 사용하면 with 블록을 벗어나는 순간\n",
        "# 열린 파일 객체 f가 자동으로 close 된다.\n",
        "#\n",
        "f = open(\"foo.txt\", \"w\")\n",
        "f.write(\"Life is too short, you need python\")\n",
        "f.close()\n"
      ],
      "execution_count": 28,
      "outputs": [
        {
          "output_type": "stream",
          "text": [
            "with문과 함께 사용하기\n"
          ],
          "name": "stdout"
        }
      ]
    },
    {
      "cell_type": "code",
      "metadata": {
        "id": "bGnFWo1XtxXu",
        "colab_type": "code",
        "colab": {}
      },
      "source": [
        "with open(\"foo1.txt\", \"w\") as f:\n",
        "    f.write(\"Life is too short, you need python\\n\")\n",
        "    f.write(\"py00, Redwoods\")\n"
      ],
      "execution_count": 0,
      "outputs": []
    },
    {
      "cell_type": "markdown",
      "metadata": {
        "id": "wLiNrHrnu0ke",
        "colab_type": "text"
      },
      "source": [
        "### sys 모듈로 매개변수 주기"
      ]
    },
    {
      "cell_type": "code",
      "metadata": {
        "id": "845t3ecrt_cW",
        "colab_type": "code",
        "colab": {
          "base_uri": "https://localhost:8080/",
          "height": 73
        },
        "outputId": "6a2a45e3-99b3-4a72-dbf7-b6546b76faf3"
      },
      "source": [
        "###################################################\n",
        "print(\"sys 모듈로 매개변수 주기\")\n",
        "#\n",
        "\"\"\"\n",
        "#sys1.py\n",
        "import sys\n",
        "args = sys.argv[1:]\n",
        "for i in args:\n",
        "    print(i)\n",
        "\"\"\"\n",
        "\n",
        "######\n",
        "\"\"\"\n",
        "#sys2.py\n",
        "import sys\n",
        "args = sys.argv[1:]\n",
        "for i in args:\n",
        "    print(i.upper(), end=' ')\n",
        "\"\"\"\n"
      ],
      "execution_count": 31,
      "outputs": [
        {
          "output_type": "stream",
          "text": [
            "sys 모듈로 매개변수 주기\n"
          ],
          "name": "stdout"
        },
        {
          "output_type": "execute_result",
          "data": {
            "text/plain": [
              "\"\\n#sys2.py\\nimport sys\\nargs = sys.argv[1:]\\nfor i in args:\\n    print(i.upper(), end=' ')\\n\""
            ]
          },
          "metadata": {
            "tags": []
          },
          "execution_count": 31
        }
      ]
    },
    {
      "cell_type": "code",
      "metadata": {
        "id": "7KrAaT1TvNIz",
        "colab_type": "code",
        "colab": {
          "base_uri": "https://localhost:8080/",
          "height": 53
        },
        "outputId": "326bb113-dfa9-4100-983f-8e35b777bfd8"
      },
      "source": [
        "import sys\n",
        "args = sys.argv[1:]\n",
        "for arg in args:\n",
        "    print(arg)\n"
      ],
      "execution_count": 32,
      "outputs": [
        {
          "output_type": "stream",
          "text": [
            "-f\n",
            "/root/.local/share/jupyter/runtime/kernel-e5c48712-fe53-4ff6-bb6a-196f7312ab93.json\n"
          ],
          "name": "stdout"
        }
      ]
    },
    {
      "cell_type": "code",
      "metadata": {
        "id": "OA2JUupyvxxE",
        "colab_type": "code",
        "colab": {
          "base_uri": "https://localhost:8080/",
          "height": 35
        },
        "outputId": "c0d4359e-52fe-4e9c-c6b5-d1a8157d2473"
      },
      "source": [
        "run sys1.py"
      ],
      "execution_count": 34,
      "outputs": [
        {
          "output_type": "stream",
          "text": [
            "sys1.py\n"
          ],
          "name": "stdout"
        }
      ]
    },
    {
      "cell_type": "code",
      "metadata": {
        "id": "j0x-CooswOwc",
        "colab_type": "code",
        "colab": {
          "base_uri": "https://localhost:8080/",
          "height": 71
        },
        "outputId": "8a691a37-1f73-4608-bf15-20d7a9180bc6"
      },
      "source": [
        "run sys1.py a b c"
      ],
      "execution_count": 36,
      "outputs": [
        {
          "output_type": "stream",
          "text": [
            "a\n",
            "b\n",
            "c\n"
          ],
          "name": "stdout"
        }
      ]
    },
    {
      "cell_type": "code",
      "metadata": {
        "id": "0a_VqDfVwrdp",
        "colab_type": "code",
        "colab": {
          "base_uri": "https://localhost:8080/",
          "height": 35
        },
        "outputId": "09893dbd-50c0-4d1c-c99e-70d166c8dd6e"
      },
      "source": [
        "run sys2.py aa bb cc"
      ],
      "execution_count": 38,
      "outputs": [
        {
          "output_type": "stream",
          "text": [
            "AA BB CC "
          ],
          "name": "stdout"
        }
      ]
    },
    {
      "cell_type": "code",
      "metadata": {
        "id": "TSiSL0dKxhiL",
        "colab_type": "code",
        "colab": {
          "base_uri": "https://localhost:8080/",
          "height": 35
        },
        "outputId": "5ee4359a-f416-4018-e61b-c9e722100387"
      },
      "source": [
        "!python sys2.py abc def"
      ],
      "execution_count": 39,
      "outputs": [
        {
          "output_type": "stream",
          "text": [
            "ABC DEF "
          ],
          "name": "stdout"
        }
      ]
    },
    {
      "cell_type": "code",
      "metadata": {
        "id": "gXRdf-LFx82q",
        "colab_type": "code",
        "colab": {}
      },
      "source": [
        ""
      ],
      "execution_count": 0,
      "outputs": []
    }
  ]
}