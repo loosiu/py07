{
  "nbformat": 4,
  "nbformat_minor": 0,
  "metadata": {
    "colab": {
      "name": "ch2_exercises_py07.ipynb",
      "provenance": [],
      "collapsed_sections": [],
      "include_colab_link": true
    },
    "kernelspec": {
      "name": "python3",
      "display_name": "Python 3"
    }
  },
  "cells": [
    {
      "cell_type": "markdown",
      "metadata": {
        "id": "view-in-github",
        "colab_type": "text"
      },
      "source": [
        "<a href=\"https://colab.research.google.com/github/oceanshrimp/py07/blob/master/notebook/ch2_exercises_py07.ipynb\" target=\"_parent\"><img src=\"https://colab.research.google.com/assets/colab-badge.svg\" alt=\"Open In Colab\"/></a>"
      ]
    },
    {
      "cell_type": "markdown",
      "metadata": {
        "id": "ovY5jkD5dpxE",
        "colab_type": "text"
      },
      "source": [
        "## ch2_exercises_py07.ipynb"
      ]
    },
    {
      "cell_type": "markdown",
      "metadata": {
        "id": "SZw6UnxQWYBe",
        "colab_type": "text"
      },
      "source": [
        "## Q1.\n",
        "> 홍길동 씨의 과목별 점수는 다음과 같다. 홍길동 씨의 평균 점수를 구해 보자.\n",
        "\n",
        "- 과목\t점수\n",
        "- 국어\t80\n",
        "- 영어\t75\n",
        "- 수학\t55"
      ]
    },
    {
      "cell_type": "code",
      "metadata": {
        "id": "rUNNaqJPdg7B",
        "colab_type": "code",
        "outputId": "bbc85f9c-27da-4ad7-ba89-5b7bd7144fcf",
        "colab": {
          "base_uri": "https://localhost:8080/",
          "height": 35
        }
      },
      "source": [
        "# [Q1] Code\n",
        "'국어 = 80 , 영어 75, 수학 55'\n",
        "평균 = (80 + 75 + 55)/3\n",
        "평균"
      ],
      "execution_count": 0,
      "outputs": [
        {
          "output_type": "execute_result",
          "data": {
            "text/plain": [
              "70.0"
            ]
          },
          "metadata": {
            "tags": []
          },
          "execution_count": 12
        }
      ]
    },
    {
      "cell_type": "markdown",
      "metadata": {
        "colab_type": "text",
        "id": "re2-XrUYXF1m"
      },
      "source": [
        "## Q2.\n",
        "> 자연수 13이 홀수인지 짝수인지 판별할 수 있는 방법에 대해 말해 보자.\n",
        "\n",
        "1. 판별 기준\n",
        "2. 코드\n"
      ]
    },
    {
      "cell_type": "code",
      "metadata": {
        "colab_type": "code",
        "id": "5MBLUZ5WXF1q",
        "outputId": "b8ab1a4b-8627-49c3-b1ee-733a6990da11",
        "colab": {
          "base_uri": "https://localhost:8080/",
          "height": 35
        }
      },
      "source": [
        "# [Q2] Code\n",
        "# 1. 판별 기준 : n의 나머지가 0이면 짝수고 n의 나머지가 1이면 홀수인 걸로 판별하였습니다.\n",
        "'짝수 = n%2=0'\n",
        "'홀수 = n%2=1'\n",
        "n =13\n",
        "n%2"
      ],
      "execution_count": 47,
      "outputs": [
        {
          "output_type": "execute_result",
          "data": {
            "text/plain": [
              "1"
            ]
          },
          "metadata": {
            "tags": []
          },
          "execution_count": 47
        }
      ]
    },
    {
      "cell_type": "markdown",
      "metadata": {
        "colab_type": "text",
        "id": "UZy8lu_BXGnT"
      },
      "source": [
        "## Q3.\n",
        "> 홍길동 씨의 주민등록번호는 881120-1068234이다. 홍길동 씨의 주민등록번호를 연월일(YYYYMMDD) 부분과 그 뒤의 숫자 부분으로 나누어 출력해 보자.\n",
        "\n",
        "- 문자열 슬라이싱 기법을 사용해 보자."
      ]
    },
    {
      "cell_type": "code",
      "metadata": {
        "colab_type": "code",
        "id": "H9T_sXHzXGnW",
        "outputId": "cea62171-c038-4fe9-fd9b-6273b80e96c0",
        "colab": {
          "base_uri": "https://localhost:8080/",
          "height": 53
        }
      },
      "source": [
        "# [Q3] Code\n",
        "a = '881120-1068234'\n",
        "print(a[0:6])\n",
        "a[7:14]"
      ],
      "execution_count": 54,
      "outputs": [
        {
          "output_type": "stream",
          "text": [
            "881120\n"
          ],
          "name": "stdout"
        },
        {
          "output_type": "execute_result",
          "data": {
            "text/plain": [
              "'1068234'"
            ]
          },
          "metadata": {
            "tags": []
          },
          "execution_count": 54
        }
      ]
    },
    {
      "cell_type": "markdown",
      "metadata": {
        "colab_type": "text",
        "id": "fqypxxqTXHY7"
      },
      "source": [
        "## Q4.\n",
        "> 주민등록번호 뒷자리의 맨 첫 번째 숫자는 성별을 나타낸다. 주민등록번호에서 성별을 나타내는 숫자를 출력해 보자.\n",
        "\n",
        "- pin = \"881120-1068234\"\n",
        "- ※ 문자열 인덱싱 또는 내장함수를 사용해 보자.\n",
        "- 문자열포맷팅을 이용해서 성별을 출력하시오."
      ]
    },
    {
      "cell_type": "code",
      "metadata": {
        "colab_type": "code",
        "id": "oQ5UnmayXHY-",
        "colab": {
          "base_uri": "https://localhost:8080/",
          "height": 53
        },
        "outputId": "b1b66db4-7f49-44b7-9ece-af74aea04eec"
      },
      "source": [
        "# [Q4] Code\n",
        "pin = \"881120-1068234\"\n",
        "print(pin[7])\n",
        "gender = '남자'\n",
        "'주민등록번호 뒷자리의 맨 첫 번째 숫자가 1이면 %s' %gender "
      ],
      "execution_count": 67,
      "outputs": [
        {
          "output_type": "stream",
          "text": [
            "1\n"
          ],
          "name": "stdout"
        },
        {
          "output_type": "execute_result",
          "data": {
            "text/plain": [
              "'주민등록번호 뒷자리의 맨 첫 번째 숫자가 1이면 남자'"
            ]
          },
          "metadata": {
            "tags": []
          },
          "execution_count": 67
        }
      ]
    },
    {
      "cell_type": "markdown",
      "metadata": {
        "colab_type": "text",
        "id": "NKsvciXZXIL-"
      },
      "source": [
        "## Q5.\n",
        "> 다음과 같은 문자열 a:b:c:d가 있다. 문자열의 replace 함수를 사용하여 a#b#c#d로 바꿔서 출력해 보자.\n",
        "\n",
        "- a = \"a:b:c:d\""
      ]
    },
    {
      "cell_type": "code",
      "metadata": {
        "colab_type": "code",
        "id": "5MZQYOVjXIL_",
        "colab": {
          "base_uri": "https://localhost:8080/",
          "height": 35
        },
        "outputId": "be83aa9f-bd77-4ae7-ff60-a5cfad7afa16"
      },
      "source": [
        "# [Q5] Code\n",
        "a = \"a:b:c:d\"\n",
        "a.replace(\":\",'#')"
      ],
      "execution_count": 69,
      "outputs": [
        {
          "output_type": "execute_result",
          "data": {
            "text/plain": [
              "'a#b#c#d'"
            ]
          },
          "metadata": {
            "tags": []
          },
          "execution_count": 69
        }
      ]
    },
    {
      "cell_type": "markdown",
      "metadata": {
        "colab_type": "text",
        "id": "-3KHtOOoXJBV"
      },
      "source": [
        "## Q6.\n",
        "> [1, 3, 5, 4, 2] 리스트를 [5, 4, 3, 2, 1]로 만들어 보자.\n",
        "\n",
        "- ※ 리스트의 내장 함수를 사용해 보자."
      ]
    },
    {
      "cell_type": "code",
      "metadata": {
        "colab_type": "code",
        "id": "AjYR0lUaXJBa",
        "colab": {
          "base_uri": "https://localhost:8080/",
          "height": 35
        },
        "outputId": "dae704aa-aaec-450a-81b9-1fa47a2d5132"
      },
      "source": [
        "# [Q6] Code\n",
        "a = [1,3,5,4,2]\n",
        "a.sort()\n",
        "a.reverse()\n",
        "a"
      ],
      "execution_count": 82,
      "outputs": [
        {
          "output_type": "execute_result",
          "data": {
            "text/plain": [
              "[5, 4, 3, 2, 1]"
            ]
          },
          "metadata": {
            "tags": []
          },
          "execution_count": 82
        }
      ]
    },
    {
      "cell_type": "markdown",
      "metadata": {
        "colab_type": "text",
        "id": "t4IiVHLeZZiY"
      },
      "source": [
        "## Q7.\n",
        "> ['Life', 'is', 'too', 'short'] 리스트를 Life is too short 문자열로 만들어 출력해 보자.\n",
        "\n",
        "- ※ 문자열의 join 함수를 사용하면 리스트를 문자열로 쉽게 만들 수 있다."
      ]
    },
    {
      "cell_type": "code",
      "metadata": {
        "colab_type": "code",
        "id": "9N_atipGZZii",
        "colab": {
          "base_uri": "https://localhost:8080/",
          "height": 35
        },
        "outputId": "fb204850-4afd-4d7c-dca9-6b4f2c355dae"
      },
      "source": [
        "# [Q7] Code\n",
        "\" \".join(['Life', 'is', 'too', 'short']) "
      ],
      "execution_count": 85,
      "outputs": [
        {
          "output_type": "execute_result",
          "data": {
            "text/plain": [
              "'Life is too short'"
            ]
          },
          "metadata": {
            "tags": []
          },
          "execution_count": 85
        }
      ]
    },
    {
      "cell_type": "markdown",
      "metadata": {
        "colab_type": "text",
        "id": "-lBhb33mZaak"
      },
      "source": [
        "## Q8.\n",
        "> (1,2,3) 튜플에 값 4를 추가하여 (1,2,3,4)를 만들어 출력해 보자.\n",
        "\n",
        "- ※ 더하기(+) 또는 다른 방법들을 사용해 보자."
      ]
    },
    {
      "cell_type": "code",
      "metadata": {
        "colab_type": "code",
        "id": "i4BTj9htZaao",
        "colab": {
          "base_uri": "https://localhost:8080/",
          "height": 35
        },
        "outputId": "33f4e956-7b88-4079-af3f-f5cefc5f1ace"
      },
      "source": [
        "# [Q8] Code\n",
        "a = (1,2,3) \n",
        "b = (4,)\n",
        "a + b"
      ],
      "execution_count": 89,
      "outputs": [
        {
          "output_type": "execute_result",
          "data": {
            "text/plain": [
              "(1, 2, 3, 4)"
            ]
          },
          "metadata": {
            "tags": []
          },
          "execution_count": 89
        }
      ]
    },
    {
      "cell_type": "markdown",
      "metadata": {
        "colab_type": "text",
        "id": "RbzxnM_2ZbD7"
      },
      "source": [
        "## Q9.\n",
        "> 다음과 같은 딕셔너리 a가 있다.\n",
        "\n",
        ">> a = dict()  \n",
        ">> a  \n",
        "{}\n",
        "\n",
        "- 다음 중 오류가 발생하는 경우를 고르고, 그 이유를 설명해 보자.\n",
        "\n",
        "1. a['name'] = 'python'\n",
        "2. a[('a',)] = 'python'\n",
        "3. a[[1]] = 'python'\n",
        "4. a[250] = 'python'"
      ]
    },
    {
      "cell_type": "code",
      "metadata": {
        "colab_type": "code",
        "id": "f-5U0rBgZbEB",
        "colab": {
          "base_uri": "https://localhost:8080/",
          "height": 35
        },
        "outputId": "412d1e72-fdc5-40f1-928c-3ae4ea9a6bf6"
      },
      "source": [
        "# [Q9] Code & explanation\n",
        "'오류가 발생하는 경우 : 3번'"
      ],
      "execution_count": 149,
      "outputs": [
        {
          "output_type": "execute_result",
          "data": {
            "text/plain": [
              "'오류가 발생하는 경우 : 3번'"
            ]
          },
          "metadata": {
            "tags": []
          },
          "execution_count": 149
        }
      ]
    },
    {
      "cell_type": "markdown",
      "metadata": {
        "colab_type": "text",
        "id": "9qiSBPM8Zbpj"
      },
      "source": [
        "## Q10.\n",
        "> 딕셔너리 a에서 'B'에 해당되는 값을 추출해 보자.\n",
        ">> a = {'A':90, 'B':80, 'C':70}\n",
        "\n",
        "- ※ 딕셔너리의 pop 함수를 사용해 보자."
      ]
    },
    {
      "cell_type": "code",
      "metadata": {
        "colab_type": "code",
        "id": "Y9swWMWHZbpm",
        "colab": {
          "base_uri": "https://localhost:8080/",
          "height": 35
        },
        "outputId": "1c4933be-8bd8-447d-ade8-815cab49659c"
      },
      "source": [
        "# [Q10] Code\n",
        "a = {'A':90, 'B':80, 'C':70}\n",
        "a.pop('B')"
      ],
      "execution_count": 106,
      "outputs": [
        {
          "output_type": "execute_result",
          "data": {
            "text/plain": [
              "80"
            ]
          },
          "metadata": {
            "tags": []
          },
          "execution_count": 106
        }
      ]
    },
    {
      "cell_type": "markdown",
      "metadata": {
        "colab_type": "text",
        "id": "88KNoXFNZcR7"
      },
      "source": [
        "## Q11.\n",
        "> a 리스트에서 중복 숫자를 제거해 보자.\n",
        ">> a = [1, 1, 1, 2, 2, 3, 3, 3, 4, 4, 5]\n",
        "\n",
        "- ※ 집합 자료형의 요솟값이 중복될 수 없다는 특징을 사용해 보자."
      ]
    },
    {
      "cell_type": "code",
      "metadata": {
        "colab_type": "code",
        "id": "paSvArIWZcSB",
        "colab": {
          "base_uri": "https://localhost:8080/",
          "height": 35
        },
        "outputId": "0b0508b9-4076-4069-c88f-723bfb2929a7"
      },
      "source": [
        "# [Q11] Code\n",
        "a = [1, 1, 1, 2, 2, 3, 3, 3, 4, 4, 5]\n",
        "a = set([1, 1, 1, 2, 2, 3, 3, 3, 4, 4, 5])\n",
        "a"
      ],
      "execution_count": 119,
      "outputs": [
        {
          "output_type": "execute_result",
          "data": {
            "text/plain": [
              "{1, 2, 3, 4, 5}"
            ]
          },
          "metadata": {
            "tags": []
          },
          "execution_count": 119
        }
      ]
    },
    {
      "cell_type": "markdown",
      "metadata": {
        "colab_type": "text",
        "id": "EzVVHI-AZc3T"
      },
      "source": [
        "## Q12.\n",
        "> 파이썬은 다음처럼 동일한 값에 여러 개의 변수를 선언할 수 있다. 다음과 같이 a, b 변수를 선언한 후 a의 두 번째 요솟값을 변경하면 b 값은 어떻게 될까? 그리고 이런 결과가 오는 이유에 대해 설명해 보자.\n",
        "\n",
        ">> a = b = [1, 2, 3]  \n",
        ">> a[1] = 4  \n",
        ">> print(b)  \n"
      ]
    },
    {
      "cell_type": "code",
      "metadata": {
        "colab_type": "code",
        "id": "RvRIUGqAZc3W",
        "colab": {
          "base_uri": "https://localhost:8080/",
          "height": 71
        },
        "outputId": "1d4f13eb-88fd-4b70-a325-3250a78e6f36"
      },
      "source": [
        "# [Q12] Code & explanation\n",
        "a = b = [1, 2, 3]\n",
        "a[1] = 4\n",
        "print(b)\n",
        "print('b의 결과값은 [1, 4, 3]로 나옵니다')\n",
        "'이 결과가 나오는 이유는 a와 b 둘 다 주소가 같은 동일한 리스트이기 때문입니다.'"
      ],
      "execution_count": 130,
      "outputs": [
        {
          "output_type": "stream",
          "text": [
            "[1, 4, 3]\n",
            "b의 결과값은 [1, 4, 3]로 나옵니다\n"
          ],
          "name": "stdout"
        },
        {
          "output_type": "execute_result",
          "data": {
            "text/plain": [
              "'이 결과가 나오는 이유는 a와 b 둘 다 주소가 같은 동일한 리스트이기 때문입니다.'"
            ]
          },
          "metadata": {
            "tags": []
          },
          "execution_count": 130
        }
      ]
    },
    {
      "cell_type": "markdown",
      "metadata": {
        "id": "2ljBDShkbqZO",
        "colab_type": "text"
      },
      "source": [
        "## 코딩 연습 결과를 github에 올리기\n",
        "> 완성된 ipython 노트북 파일을 각자의 github에 올리시오.\n",
        "\n",
        "- github 계정 만들기 (계정이 없는 학생)\n",
        "    1. github에 sign up (Google gmail 계정을 이용해서 만드시오.)\n",
        "- github에 노트 올리기\n",
        "    2. github에 각자의 id로 repo를 만드시오. (한번 만들면 계속 재사용)\n",
        "    3. pynn repo에 연습결과 노트를 올리시오.\n",
        "        - 제출노트: ch2_exercises_id.ipynb\n"
      ]
    },
    {
      "cell_type": "code",
      "metadata": {
        "id": "OnCR-YNCc8B6",
        "colab_type": "code",
        "colab": {}
      },
      "source": [
        ""
      ],
      "execution_count": 0,
      "outputs": []
    }
  ]
}